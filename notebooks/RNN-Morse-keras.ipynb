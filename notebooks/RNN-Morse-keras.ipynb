{
 "cells": [
  {
   "cell_type": "markdown",
   "metadata": {},
   "source": [
    "# Train model with noisy signal\n",
    "\n",
    "This notebook is based on Mauri AG1LE's work back in 2015 that can be found on Github [here](https://github.com/ag1le/RNN-Morse). From an audio signal generated at 8 kHz sample rate (thus in 4 kHz bandwidth) it attempts to recognize Morse code distinctive features in the signal that is:\n",
    "\n",
    "  - The envelope\n",
    "  - The \"dit\"\n",
    "  - The \"dah\"\n",
    "  - The element separator at the end of a \"dit\" or a \"dah\"\n",
    "  - The character separator\n",
    "  - The word separator\n",
    "  \n",
    "It trains a LSTM based recurrent neural network (RNN) on a slightly noisy signal (a few dB SNR in 4 kHz bandwidth) in an encoder-decoder fashion. The envelope of the signal is taken as input as a time series of floating point values and the labels are also time series of the 6 signals described above.\n",
    "\n",
    "It then attempts prediction on a much noisier signal of the same test data to see how it can perform in retrieving the 6 predicted signals and reformat the original envelope.\n",
    "\n",
    "This is the Keras / Tensorflow version."
   ]
  },
  {
   "cell_type": "code",
   "execution_count": null,
   "metadata": {},
   "outputs": [],
   "source": [
    "!pip install sounddevice"
   ]
  },
  {
   "cell_type": "markdown",
   "metadata": {},
   "source": [
    "## Generate annotated raw signal"
   ]
  },
  {
   "cell_type": "code",
   "execution_count": null,
   "metadata": {},
   "outputs": [],
   "source": [
    "import MorseGen\n",
    "import matplotlib.pyplot as plt \n",
    "\n",
    "#phrase = '01234 6789 QUICK BROWN FOX 01234 6789 QUICK BROWN FOX01234 6789 QUICK BROWN FOX01234 6789 QUICK BROWN FOX01234 6789 QUICK BROWN FOX 01234 6789 QUICK BROWN FOX'\n",
    "#phrase = '7U7K 0DC55B H ZN0J Q9 H2X0 LZ16A ECA2DE 6A2 NUPU 67IL6EIH YVZA 5OTGC3U C3R PGW RS0 84QTV4PB EZ1 JBGJ TT1W4M5PBJ GZVLWXQG 7POU6 FMTXA N3CZ Y1Q9VZ6 9TVL CWP8KSB'\n",
    "phrase = '6 WREB W7UU QNWXS2 3KRO72Q AN1TI QZIWH G L0U7 Y17X45 OVIC2 C052W00PI60 O5Y 10R2N 4 FHC JXRGS4 DWBOL7ZUXJU EMNC3 WWBNT7 0UP GMKQ YG83H8 IT2Q Y0YBZ SQ80I5 W7SW 0K BMJ8JPM 51CK1 R08T 7SU1LYS7W6T 4JKVQF V3G UU2O1OM4 P4B 4A9DLC VI1H 4 HMP57 Q6G3 4QADIG FRJ 0MVL EPSM CS N9IZEMA GSRWUPBYB FD29 YI3PY N31W X88NS 773EW4Q4 LSW'\n",
    "Fs = 8000\n",
    "morse_gen = MorseGen.Morse()\n",
    "samples_per_dit = morse_gen.nb_samples_per_dit(Fs, 13)\n",
    "label_df = morse_gen.encode_df(phrase, samples_per_dit)\n",
    "print(label_df.shape)\n",
    "plt.figure(figsize=(50,5))\n",
    "x = 200000\n",
    "y = 300000\n",
    "plt.plot(label_df[x:y].env*0.9 + 0.0, label='env')\n",
    "plt.plot(label_df[x:y].dit*0.9 + 1.0, label='dit')\n",
    "plt.plot(label_df[x:y].dah*0.9 + 2.0, label='dah')\n",
    "plt.plot(label_df[x:y].ele*0.9 + 3.0, label='ele')\n",
    "plt.plot(label_df[x:y].chr*0.9 + 4.0, label='chr')\n",
    "plt.plot(label_df[x:y].wrd*0.9 + 5.0, label='wrd')\n",
    "plt.title(\"labels\")\n",
    "plt.legend()\n",
    "plt.grid()"
   ]
  },
  {
   "cell_type": "markdown",
   "metadata": {},
   "source": [
    "### Audio"
   ]
  },
  {
   "cell_type": "code",
   "execution_count": null,
   "metadata": {},
   "outputs": [],
   "source": [
    "import numpy as np\n",
    "\n",
    "Fc = 600\n",
    "SNR_dB = 6\n",
    "SNR_linear = 10.0**(SNR_dB/10.0)\n",
    "t = np.linspace(0, len(label_df)-1, len(label_df))\n",
    "cw = np.sin((Fc/Fs)*2*np.pi*t)\n",
    "morsecode = cw * label_df.env\n",
    "power = morsecode.var()\n",
    "noise_power = power/SNR_linear\n",
    "noise = np.sqrt(noise_power)*np.random.normal(0, 1, len(morsecode))\n",
    "signal = morsecode + noise\n",
    "\n",
    "plt.figure(figsize=[25,5])\n",
    "plt.plot(signal[200000:300000])"
   ]
  },
  {
   "cell_type": "markdown",
   "metadata": {},
   "source": [
    "### Labels"
   ]
  },
  {
   "cell_type": "code",
   "execution_count": null,
   "metadata": {},
   "outputs": [],
   "source": [
    "plt.figure(figsize=(25,5))\n",
    "x = 200000\n",
    "y = 300000\n",
    "plt.plot(label_df[x:y].ele*0.07 + 0.1)\n",
    "plt.plot(label_df[x:y].chr*0.07 + 0.2)\n",
    "plt.plot(label_df[x:y].wrd*0.07 + 0.3)\n",
    "plt.plot(label_df[x:y].dit*0.07 + 0.4)\n",
    "plt.plot(label_df[x:y].dah*0.07 + 0.5)\n",
    "plt.plot((label_df[x:y].dit+label_df[x:y].dah))\n",
    "plt.title(\"labels\")"
   ]
  },
  {
   "cell_type": "markdown",
   "metadata": {},
   "source": [
    "### Plot spectrogram"
   ]
  },
  {
   "cell_type": "code",
   "execution_count": null,
   "metadata": {},
   "outputs": [],
   "source": [
    "plt.figure(figsize=(25,10))\n",
    "plt.ylabel(\"Frequency (Hz)\")\n",
    "plt.xlabel(\"Time (seconds)\")\n",
    "_ = plt.specgram(signal[0:30*Fs], NFFT=256, Fs=Fs, Fc=0, mode='magnitude', noverlap=128)"
   ]
  },
  {
   "cell_type": "markdown",
   "metadata": {},
   "source": [
    "## Generate final annotated data\n",
    "### Find peak"
   ]
  },
  {
   "cell_type": "code",
   "execution_count": null,
   "metadata": {},
   "outputs": [],
   "source": [
    "import MorseDSP\n",
    "\n",
    "maxtab, f, s = MorseDSP.find_peak(Fs, signal)\n",
    "tone = maxtab[0,0]\n",
    "plt.title(\"Morse signal peak found at {} Hz\".format(tone))\n",
    "plt.xlabel(\"Frequency (Hz)\")\n",
    "plt.ylabel(\"Amplitude (log)\")\n",
    "plt.yscale('log')\n",
    "_ = plt.plot(f[0:int(len(f)/2-1)], abs(s[0:int(len(s)/2-1)]),'g-')\n",
    "_ = plt.scatter(maxtab[:,0], maxtab[:,1], c='r') \n",
    "plt.show()"
   ]
  },
  {
   "cell_type": "markdown",
   "metadata": {},
   "source": [
    "### Generate image"
   ]
  },
  {
   "cell_type": "code",
   "execution_count": null,
   "metadata": {},
   "outputs": [],
   "source": [
    "nside_bins = 1\n",
    "nfft = 256\n",
    "f, t, img, noverlap = MorseDSP.specimg(Fs, signal, None, None, tone, nfft, nside_bins)\n",
    "decim = nfft - noverlap\n",
    "print(type(signal), signal.shape)\n",
    "print(type(f), f.shape)\n",
    "print(type(t), t.shape, max(t))\n",
    "print(type(img), img.shape)\n",
    "print(noverlap, len(signal)//noverlap, decim)\n",
    "# Show first 25 seconds at most\n",
    "rmax = 25 / max(t) if max(t) > 25 else 25\n",
    "imax = int(rmax*len(t))\n",
    "t1 = t[:imax]\n",
    "img1 = img[:,:imax]\n",
    "plt.figure(figsize=(30,3))\n",
    "plt.pcolormesh(t1, f, img1, shading='flat', cmap=plt.get_cmap('binary'))\n",
    "plt.ylabel('Frequency [Hz]')\n",
    "plt.xlabel('Time [sec]')\n",
    "plt.show()  "
   ]
  },
  {
   "cell_type": "markdown",
   "metadata": {},
   "source": [
    "### Generate spectral line"
   ]
  },
  {
   "cell_type": "code",
   "execution_count": null,
   "metadata": {},
   "outputs": [],
   "source": [
    "plt.figure(figsize=(30,3))\n",
    "plt.plot(img[nside_bins-1][:1500], label=\"-1\")\n",
    "plt.plot(img[nside_bins][:1500], label=\"0\")\n",
    "plt.plot(img[nside_bins+1][:1500], label=\"+1\")\n",
    "plt.legend()\n",
    "plt.show()  "
   ]
  },
  {
   "cell_type": "code",
   "execution_count": null,
   "metadata": {},
   "outputs": [],
   "source": [
    "import numpy as np\n",
    "\n",
    "img_line = np.sum(img, axis=0)\n",
    "img_line /= max(img_line)\n",
    "print(img_line.shape)\n",
    "plt.figure(figsize=(30,3))\n",
    "plt.plot(img_line[:1500], label=\"lin\")\n",
    "plt.legend()\n",
    "plt.show()"
   ]
  },
  {
   "cell_type": "markdown",
   "metadata": {},
   "source": [
    "### Generate training dataset"
   ]
  },
  {
   "cell_type": "code",
   "execution_count": null,
   "metadata": {},
   "outputs": [],
   "source": [
    "label_img = label_df[::decim] # decimate labels by spectrum decimation\n",
    "label_img.reset_index(drop=True, inplace=True)\n",
    "#img_sig = img[nside_bins, :] # take line at center bin which is next to the low side bins\n",
    "img_sig = label_img.dit + label_img.dah # ideal signal\n",
    "img_sig /= max(img_sig)                 # normalize\n",
    "train_img = label_img\n",
    "train_img = train_img.truncate(after=len(img_line)-1, copy=False)\n",
    "x = 0\n",
    "y = imax\n",
    "print(x, y)\n",
    "plt.figure(figsize=(30,5))\n",
    "plt.plot(train_img[x:y].wrd + 0.0, label=\"wrd\")\n",
    "plt.plot(train_img[x:y].chr + 1.0, label=\"chr\")\n",
    "plt.plot(train_img[x:y].ele + 2.0, label=\"ele\")\n",
    "plt.plot(train_img[x:y].dit + 3.0, label=\"dit\")\n",
    "plt.plot(train_img[x:y].dah + 4.0, label=\"dah\")\n",
    "plt.plot(train_img[x:y].env + 5.0, label=\"env\")\n",
    "plt.plot(img_line[x:y] + 6.0, label=\"lin\")\n",
    "plt.title(\"image line and labels\")\n",
    "plt.grid()\n",
    "plt.legend()\n",
    "print(train_img.shape, img_line.shape, type(img_sig))"
   ]
  },
  {
   "cell_type": "markdown",
   "metadata": {},
   "source": [
    "### Split training and test data"
   ]
  },
  {
   "cell_type": "code",
   "execution_count": null,
   "metadata": {},
   "outputs": [],
   "source": [
    "import numpy as np\n",
    "\n",
    "def _load_data(data_x, data_y, n_prev):  \n",
    "    \"\"\"\n",
    "    data_y should be pd.DataFrame()\n",
    "    \"\"\"\n",
    "\n",
    "    docX, docY = [], []\n",
    "    for i in range(len(data_y)-n_prev):\n",
    "        docX.append(data_x[i:i+n_prev]) # sliding n_prev values\n",
    "        docY.append(data_y.iloc[i+n_prev].values)   # next value from previous n_prev values\n",
    "    alsX = np.array(docX)\n",
    "    alsY = np.array(docY)\n",
    "\n",
    "    return alsX, alsY\n",
    "\n",
    "def train_test_split(x, label_df, n_prev=100, test_size=0.5):  \n",
    "    \"\"\"\n",
    "    This just splits data to training and testing parts\n",
    "    \"\"\"\n",
    "    ntrn = round(len(label_df) * (1 - test_size))\n",
    "\n",
    "    X_train, y_train = _load_data(x[0:ntrn], label_df.iloc[0:ntrn], n_prev)\n",
    "    X_test, y_test = _load_data(x[ntrn:], label_df.iloc[ntrn:], n_prev)\n",
    "\n",
    "    return ntrn, (X_train, y_train), (X_test, y_test)"
   ]
  },
  {
   "cell_type": "code",
   "execution_count": null,
   "metadata": {},
   "outputs": [],
   "source": [
    "n_prev = 200\n",
    "X_img = img_line.reshape((len(img_line), 1))\n",
    "ntrn, (X_train, y_train), (X_test, y_test) = train_test_split(X_img, train_img, n_prev)  # retrieve data\n",
    "l_train = img_line[0:ntrn+n_prev]\n",
    "l_test = img_line[ntrn+n_prev:]\n",
    "print (ntrn, img_sig.shape, train_img.shape, X_train.shape, y_train.shape, l_train.shape, l_test.shape)\n",
    "a = []\n",
    "b = []\n",
    "for t in range(5):\n",
    "    a.append(X_test[t*n_prev])\n",
    "    b.append(X_train[t*n_prev])\n",
    "plt.figure(figsize=(25,3))\n",
    "plt.plot(np.concatenate((tuple(a)))*0.5, label='test')\n",
    "plt.plot(np.concatenate((tuple(b)))*0.5+0.5, label='train')\n",
    "plt.title(\"Train and test\")\n",
    "plt.legend()"
   ]
  },
  {
   "cell_type": "code",
   "execution_count": null,
   "metadata": {},
   "outputs": [],
   "source": [
    "print(X_train[:,:,0].shape)\n",
    "a = []\n",
    "for i in range(5):\n",
    "    a.append(X_test[:,:,0][i*n_prev])\n",
    "plt.figure(figsize=(25,3))\n",
    "plt.plot(np.concatenate(tuple(a)), label='X_test')\n",
    "plt.plot(l_test[:5*n_prev]+1.0, label='line')\n",
    "plt.plot(y_test[:5*n_prev,0]+2.0, label='y_test')\n",
    "plt.title(\"Test\")\n",
    "plt.legend()"
   ]
  },
  {
   "cell_type": "markdown",
   "metadata": {},
   "source": [
    "## Create model"
   ]
  },
  {
   "cell_type": "code",
   "execution_count": null,
   "metadata": {},
   "outputs": [],
   "source": [
    "from keras.models import Sequential  \n",
    "from keras.layers.core import Dense, Activation  \n",
    "from keras.layers.recurrent import LSTM\n",
    "from keras.callbacks import Callback\n",
    "from keras.layers import Bidirectional\n",
    "\n",
    "in_neurons = 1  \n",
    "out_neurons = 6  \n",
    "hidden_neurons = 12\n",
    "\n",
    "lstm = LSTM(hidden_neurons, input_shape=(n_prev,in_neurons), return_sequences=False)\n",
    "model = Sequential()  \n",
    "model.add(Bidirectional(lstm, merge_mode='sum', input_shape=(n_prev,in_neurons))) \n",
    "#model.add(LSTM(hidden_neurons, input_dim=in_neurons, return_sequences=False)) \n",
    "model.add(Dense(out_neurons, input_dim=hidden_neurons))\n",
    "model.add(Activation(\"linear\"))  \n",
    "model.compile(loss=\"mean_squared_error\", optimizer=\"rmsprop\")  \n",
    "\n",
    "# Call back to capture losses \n",
    "class LossHistory(Callback):\n",
    "    def on_train_begin(self, logs={}):\n",
    "        self.losses = []\n",
    "\n",
    "    def on_batch_end(self, batch, logs={}):\n",
    "        self.losses.append(logs.get('loss'))\n",
    "# Train the model\n",
    "history = LossHistory()\n",
    "model.summary()"
   ]
  },
  {
   "cell_type": "markdown",
   "metadata": {},
   "source": [
    "## Train model"
   ]
  },
  {
   "cell_type": "code",
   "execution_count": null,
   "metadata": {},
   "outputs": [],
   "source": [
    "X_train[0].shape, y_train[0].shape, X_test.shape"
   ]
  },
  {
   "cell_type": "code",
   "execution_count": null,
   "metadata": {},
   "outputs": [],
   "source": [
    "hist = model.fit(X_train, y_train, batch_size=400, epochs=60, validation_split=0.05, callbacks=[history])  \n",
    "print (hist.history)\n",
    "plt.figure(figsize=(20,3))\n",
    "plt.plot( history.losses)\n",
    "plt.title(\"training loss\")"
   ]
  },
  {
   "cell_type": "code",
   "execution_count": null,
   "metadata": {},
   "outputs": [],
   "source": [
    "predicted = model.predict(X_test)\n",
    "rmse = np.sqrt(((predicted - y_test) ** 2).mean(axis=0))\n",
    "print(rmse)"
   ]
  },
  {
   "cell_type": "markdown",
   "metadata": {},
   "source": [
    "## Predict (test)"
   ]
  },
  {
   "cell_type": "code",
   "execution_count": null,
   "metadata": {},
   "outputs": [],
   "source": [
    "plt.figure(figsize=(30,3))\n",
    "plt.plot(y_test)"
   ]
  },
  {
   "cell_type": "code",
   "execution_count": null,
   "metadata": {},
   "outputs": [],
   "source": [
    "plt.figure(figsize=(25,3))\n",
    "lines = plt.plot(y_test[:y])\n",
    "plt.title(\"actual categories\")\n",
    "labels=['env','dit','dah','elt','chr','wrd']\n",
    "plt.legend(lines, labels)\n",
    "print(X_test.shape, y_test.shape)"
   ]
  },
  {
   "cell_type": "code",
   "execution_count": null,
   "metadata": {},
   "outputs": [],
   "source": [
    "plt.figure(figsize=(30,7))\n",
    "plt.plot(y_test[:y,0], label=\"y0\")\n",
    "plt.plot(l_test[:y] + 1.0, label=\"lin\")\n",
    "plt.plot(predicted[:y,0] + 2.0, label=\"sig\")\n",
    "plt.plot(predicted[:y,1] + 3.0, label=\"dit\")\n",
    "plt.plot(predicted[:y,2] + 4.0, label=\"dah\")\n",
    "plt.title(\"Predictions\")\n",
    "plt.legend()\n",
    "plt.grid()"
   ]
  },
  {
   "cell_type": "code",
   "execution_count": null,
   "metadata": {},
   "outputs": [],
   "source": [
    "sig = predicted[:y,0]\n",
    "sig = (sig - min(sig)) / (max(sig) - min(sig))\n",
    "mod = predicted[:y,1] + predicted[:y,2] - 3.0*(predicted[:y,3] + predicted[:y,4] + predicted[:y,5])\n",
    "mod = (mod - min(mod)) / (max(mod) - min(mod))\n",
    "mor = y_test[:y,1] + y_test[:y,2] - 3.0*(y_test[:y,3] + y_test[:y,4] + y_test[:y,5])\n",
    "mor = (mor - min(mor)) / (max(mor) - min(mor))\n",
    "plt.figure(figsize=(30,5))\n",
    "plt.plot(sig, label=\"sig\")\n",
    "plt.title(\"predicted signal modulation\")\n",
    "plt.grid()\n",
    "plt.figure(figsize=(30,5))\n",
    "plt.plot(mod*0.6+0.4, label=\"mod\")\n",
    "plt.plot(mor*0.3, label=\"mor\")\n",
    "plt.plot(l_test[:y]*0.3, label=\"sig\")\n",
    "plt.title(\"reconstructed signal modulation with 'dah' and 'dit'\")\n",
    "plt.legend()\n",
    "plt.grid()"
   ]
  },
  {
   "cell_type": "code",
   "execution_count": null,
   "metadata": {},
   "outputs": [],
   "source": [
    "mor = y_test[:y,1] + y_test[:y,2]\n",
    "plt.figure(figsize=(25,3))\n",
    "plt.plot(predicted[:y,1], label='dit')\n",
    "plt.plot(predicted[:y,2], label='dah')\n",
    "plt.plot(mor*0.5 + 1.0, label='mor')\n",
    "plt.title(\"'dit' and 'dah' symbols prediction vs modulation\")\n",
    "plt.legend()\n",
    "plt.grid()"
   ]
  },
  {
   "cell_type": "code",
   "execution_count": null,
   "metadata": {},
   "outputs": [],
   "source": [
    "plt.figure(figsize=(25,3))\n",
    "plt.plot(predicted[:y,3], label='ele')\n",
    "plt.plot(mor, label='mor')\n",
    "plt.title(\"Element space prediction vs modulation\")\n",
    "plt.legend()"
   ]
  },
  {
   "cell_type": "code",
   "execution_count": null,
   "metadata": {},
   "outputs": [],
   "source": [
    "plt.figure(figsize=(25,3))\n",
    "plt.plot(predicted[:y,4] ,label='chr')\n",
    "plt.plot(mor, label='mor')\n",
    "plt.title(\"Character space prediction vs modulation\")\n",
    "plt.legend()"
   ]
  },
  {
   "cell_type": "code",
   "execution_count": null,
   "metadata": {},
   "outputs": [],
   "source": [
    "plt.figure(figsize=(25,3))\n",
    "plt.plot(predicted[:y,5], label='wrd')\n",
    "plt.plot(mor, label='mor')\n",
    "plt.title(\"Word space prediction vs modulation\")\n",
    "plt.legend()"
   ]
  },
  {
   "cell_type": "code",
   "execution_count": null,
   "metadata": {},
   "outputs": [],
   "source": [
    "plt.figure(figsize=(25,5))\n",
    "plt.plot(predicted[:y,1], label=\"dit\")\n",
    "plt.plot(predicted[:y,2] + 1.0, label=\"dah\")\n",
    "plt.plot(predicted[:y,3] + 2.0, label=\"ele\")\n",
    "plt.plot(predicted[:y,4] + 3.0, label=\"chr\")\n",
    "plt.plot(predicted[:y,5] + 4.0, label=\"wrd\")\n",
    "plt.plot(l_test[:y] + 5.0, label=\"sig\")\n",
    "plt.plot(mor*6.0, label=\"mor\")\n",
    "plt.title(\"Altogether vs signal and modulation\")\n",
    "plt.legend()"
   ]
  },
  {
   "cell_type": "code",
   "execution_count": null,
   "metadata": {},
   "outputs": [],
   "source": [
    "from scipy.io import wavfile\n",
    "\n",
    "Fcode = 600\n",
    "Fs = 8000\n",
    "emod = np.array([np.exp(x) if x > 0.5 else 0.0 for x in mod])\n",
    "emod /= max(emod)\n",
    "remod = np.array([[x]*noverlap for x in emod]).flatten()\n",
    "wt = (Fcode / Fs)*2*np.pi\n",
    "tone = np.sin(np.arange(len(remod))*wt)\n",
    "wavfile.write('audio/re.wav', Fs, tone*remod)\n",
    "plt.figure(figsize=(25,5))\n",
    "plt.plot(tone*remod)\n",
    "plt.title(\"reconstructed signal\")\n",
    "plt.grid()\n",
    "# .4QTV4PB EZ1 JBGJ TT1W4M...\n",
    "# 7U7K 0DC55B H ZN0J Q9 H2X0 LZ16A ECA2DE 6A2 NUPU 67IL6EIH YVZA 5OTGC3U C3R PGW RS0 84QTV4PB EZ1 JBGJ TT1W4M5PBJ GZVLWXQG 7POU6 FMTXA N3CZ Y1Q9VZ6 9TVL CWP8KSB'"
   ]
  },
  {
   "cell_type": "code",
   "execution_count": null,
   "metadata": {},
   "outputs": [],
   "source": [
    "omod = l_test[:y]\n",
    "omod / max(omod)\n",
    "orig_mod = np.array([[x]*decim for x in omod]).flatten()\n",
    "wavfile.write('audio/or.wav', Fs, tone*orig_mod)\n",
    "plt.figure(figsize=(25,5))\n",
    "plt.plot(tone*orig_mod)\n",
    "plt.title(\"original filtered signal\")\n",
    "plt.grid()"
   ]
  },
  {
   "cell_type": "markdown",
   "metadata": {},
   "source": [
    "## Make new predictions"
   ]
  },
  {
   "cell_type": "code",
   "execution_count": null,
   "metadata": {},
   "outputs": [],
   "source": [
    "SNR_dB = -13\n",
    "SNR_linear = 10.0**(SNR_dB/10.0)\n",
    "noise_power = power/SNR_linear\n",
    "noise = np.sqrt(noise_power)*np.random.normal(0, 1, len(morsecode))\n",
    "signal1 = morsecode + noise"
   ]
  },
  {
   "cell_type": "markdown",
   "metadata": {},
   "source": [
    "### Find peak"
   ]
  },
  {
   "cell_type": "code",
   "execution_count": null,
   "metadata": {},
   "outputs": [],
   "source": [
    "maxtab, f, s = MorseDSP.find_peak(Fs, signal1)\n",
    "tone = maxtab[0,0]\n",
    "plt.title(\"Morse signal peak found at {} Hz\".format(tone))\n",
    "plt.xlabel(\"Frequency (Hz)\")\n",
    "plt.ylabel(\"Amplitude (log)\")\n",
    "plt.yscale('log')\n",
    "_ = plt.plot(f[0:int(len(f)/2-1)], abs(s[0:int(len(s)/2-1)]),'g-')\n",
    "_ = plt.scatter(maxtab[:,0], maxtab[:,1], c='r') \n",
    "plt.show()"
   ]
  },
  {
   "cell_type": "markdown",
   "metadata": {},
   "source": [
    "### Generate image"
   ]
  },
  {
   "cell_type": "code",
   "execution_count": null,
   "metadata": {},
   "outputs": [],
   "source": [
    "nside_bins = 1\n",
    "nfft = 256\n",
    "f, t, img, noverlap = MorseDSP.specimg(Fs, signal1, None, None, tone, nfft, nside_bins)\n",
    "decim = nfft - noverlap\n",
    "print(type(signal1), signal1.shape)\n",
    "print(type(f), f.shape)\n",
    "print(type(t), t.shape, max(t))\n",
    "print(type(img), img.shape)\n",
    "print(noverlap, len(signal1)//noverlap, decim)\n",
    "# Show first 25 seconds at most\n",
    "rmax = 25 / max(t) if max(t) > 25 else 25\n",
    "imax = int(rmax*len(t))\n",
    "t1 = t[:imax]\n",
    "img1 = img[:,:imax]\n",
    "plt.figure(figsize=(30,3))\n",
    "plt.pcolormesh(t1, f, img1, shading='flat', cmap=plt.get_cmap('binary'))\n",
    "plt.ylabel('Frequency [Hz]')\n",
    "plt.xlabel('Time [sec]')\n",
    "plt.show()  "
   ]
  },
  {
   "cell_type": "markdown",
   "metadata": {},
   "source": [
    "### Generate spectral line"
   ]
  },
  {
   "cell_type": "code",
   "execution_count": null,
   "metadata": {},
   "outputs": [],
   "source": [
    "plt.figure(figsize=(30,3))\n",
    "plt.plot(img[nside_bins-1][:1500], label=\"-1\")\n",
    "plt.plot(img[nside_bins][:1500], label=\"0\")\n",
    "plt.plot(img[nside_bins+1][:1500], label=\"+1\")\n",
    "plt.legend()\n",
    "plt.show()"
   ]
  },
  {
   "cell_type": "code",
   "execution_count": null,
   "metadata": {},
   "outputs": [],
   "source": [
    "img_line = img[nside_bins] #np.sum(img, axis=0)\n",
    "img_line /= max(img_line)\n",
    "print(img_line.shape)\n",
    "plt.figure(figsize=(30,3))\n",
    "plt.plot(img_line[:1500], label=\"lin\")\n",
    "plt.legend()\n",
    "plt.show()"
   ]
  },
  {
   "cell_type": "markdown",
   "metadata": {},
   "source": [
    "### Same dataset"
   ]
  },
  {
   "cell_type": "code",
   "execution_count": null,
   "metadata": {},
   "outputs": [],
   "source": [
    "plt.figure(figsize=(30,5))\n",
    "plt.plot(train_img[x:y].wrd + 0.0, label=\"wrd\")\n",
    "plt.plot(train_img[x:y].chr + 1.0, label=\"chr\")\n",
    "plt.plot(train_img[x:y].ele + 2.0, label=\"ele\")\n",
    "plt.plot(train_img[x:y].dit + 3.0, label=\"dit\")\n",
    "plt.plot(train_img[x:y].dah + 4.0, label=\"dah\")\n",
    "plt.plot(train_img[x:y].env + 5.0, label=\"env\")\n",
    "plt.plot(img_line[x:y] + 6.0, label=\"lin\")\n",
    "plt.title(\"image line and labels\")\n",
    "plt.grid()\n",
    "plt.legend()\n",
    "print(train_img.shape, img_line.shape, type(img_sig))"
   ]
  },
  {
   "cell_type": "markdown",
   "metadata": {},
   "source": [
    "### Get test data"
   ]
  },
  {
   "cell_type": "code",
   "execution_count": null,
   "metadata": {},
   "outputs": [],
   "source": [
    "X_img = img_line.reshape((len(img_line), 1))\n",
    "ntrn, (X_train, y_train), (X_test, y_test) = train_test_split(X_img, train_img, n_prev)  # retrieve data\n",
    "l_train = img_line[0:ntrn+n_prev]\n",
    "l_test = img_line[ntrn+n_prev:]\n",
    "print (ntrn, img_sig.shape, train_img.shape, X_train.shape, y_train.shape, l_train.shape, l_test.shape)\n",
    "a = []\n",
    "b = []\n",
    "for t in range(5):\n",
    "    a.append(X_test[t*n_prev])\n",
    "    b.append(X_train[t*n_prev])\n",
    "plt.figure(figsize=(25,3))\n",
    "plt.plot(np.concatenate((tuple(a)))*0.5, label='test')\n",
    "plt.plot(np.concatenate((tuple(b)))*0.5+0.5, label='train')\n",
    "plt.title(\"Train and test\")\n",
    "plt.legend()"
   ]
  },
  {
   "cell_type": "code",
   "execution_count": null,
   "metadata": {},
   "outputs": [],
   "source": [
    "a = []\n",
    "for i in range(5):\n",
    "    a.append(X_test[:,:,0][i*n_prev])\n",
    "plt.figure(figsize=(25,3))\n",
    "plt.plot(np.concatenate(tuple(a)), label='test')\n",
    "plt.plot(l_test[:5*n_prev]+1.0, label='line')\n",
    "plt.title(\"Test\")\n",
    "plt.legend()"
   ]
  },
  {
   "cell_type": "code",
   "execution_count": null,
   "metadata": {},
   "outputs": [],
   "source": [
    "print (img_line.shape, X_test.shape)"
   ]
  },
  {
   "cell_type": "code",
   "execution_count": null,
   "metadata": {},
   "outputs": [],
   "source": [
    "predicted1 = model.predict(X_test)\n",
    "rmse1 = np.sqrt(((predicted1 - y_test) ** 2).mean(axis=0))\n",
    "print(rmse1)"
   ]
  },
  {
   "cell_type": "code",
   "execution_count": null,
   "metadata": {},
   "outputs": [],
   "source": [
    "ori1 = l_test[:y]\n",
    "ori1 = (ori1 - min(ori1)) / (max(ori1) - min(ori1))\n",
    "sig1 = predicted1[:y,0]\n",
    "sig1 = (sig1 - min(sig1)) / (max(sig1) - min(sig1))\n",
    "dit1 = predicted1[:y,1]\n",
    "dit1 = (dit1 - min(dit1)) / (max(dit1) - min(dit1))\n",
    "dah1 = predicted1[:y,2]\n",
    "dah1 = (dah1 - min(dah1)) / (max(dah1) - min(dah1))\n",
    "dahdit1 = (dit1 + dah1) / 2.0\n",
    "sil1 = predicted1[:y,3] + predicted1[:y,4] + predicted1[:y,5]\n",
    "mod1 = predicted1[:y,0] - sil1\n",
    "mod1 = (mod1 - min(mod1)) / (max(mod1) - min(mod1))\n",
    "plt.figure(figsize=(50,8))\n",
    "plt.plot(ori1, label=\"ori\")\n",
    "plt.plot(sig1 + 1.0, label=\"sig\")\n",
    "plt.plot(mod1 + 2.0, label=\"mod\")\n",
    "plt.plot(dahdit1 + 3.0, label=\"dd\")\n",
    "plt.plot(sil1 + 4.0, label=\"sil\")\n",
    "plt.plot(predicted1[:y,3] + 5.0, label='ele')\n",
    "plt.plot(predicted1[:y,4] + 6.0, label='chr')\n",
    "plt.plot(predicted1[:y,5] + 7.0, label='wrd')\n",
    "plt.plot((y_test[:y,1]+y_test[:y,2])*8.2, label=\"mor\")\n",
    "# plt.plot(dit1*0.3, label=\"dit\")\n",
    "# plt.plot(dah1*0.3, label=\"dah\")\n",
    "plt.title(\"predictions\")\n",
    "plt.legend()\n",
    "plt.grid()\n",
    "plt.figure(figsize=(50,5))\n",
    "plt.plot(mod1, label=\"mod\")\n",
    "plt.plot(sig1+1.0, label=\"sig\")\n",
    "plt.plot((y_test[:y,1]+y_test[:y,2])*2.0, label=\"mor\")\n",
    "plt.title(\"reconstructed signal modulation with 'dah' and 'dit'\")\n",
    "plt.legend()\n",
    "plt.grid()"
   ]
  },
  {
   "cell_type": "code",
   "execution_count": null,
   "metadata": {},
   "outputs": [],
   "source": [
    "plt.figure(figsize=(50,10))\n",
    "plt.plot(predicted1[:y,1], label=\"dit\")\n",
    "plt.plot(predicted1[:y,2] + 1.0, label=\"dah\")\n",
    "plt.plot(predicted1[:y,3] + 2.0, label=\"ele\")\n",
    "plt.plot(predicted1[:y,4] + 3.0, label=\"chr\")\n",
    "plt.plot(predicted1[:y,5] + 4.0, label=\"wrd\")\n",
    "plt.plot(predicted1[:y,0] + 5.0, label=\"sig\")\n",
    "plt.plot(l_test[:y] + 6.0, label=\"inp\")\n",
    "plt.plot(y_test[:y,0]*7.0, label=\"mod\")\n",
    "plt.title(\"Altogether vs signal and modulation\")\n",
    "plt.legend()\n",
    "plt.grid()"
   ]
  },
  {
   "cell_type": "code",
   "execution_count": null,
   "metadata": {},
   "outputs": [],
   "source": [
    "import scipy as sp\n",
    "\n",
    "#omod = np.array([sp.special.expit(12*(x-0.3)) for x in l_test[:y]])\n",
    "omod = np.array([sp.special.expit(20*(x-0.18)) for x in l_test[:y]])\n",
    "orig_mod = np.array([[x]*decim for x in omod]).flatten()\n",
    "orig_mod /= max(orig_mod)\n",
    "wt = (Fcode / Fs)*2*np.pi\n",
    "tone = np.sin(np.arange(len(orig_mod))*wt)\n",
    "wavfile.write('audio/or1.wav', Fs, tone*orig_mod)\n",
    "ref_mod = np.array([[x]*decim for x in mor]).flatten()\n",
    "plt.figure(figsize=(25,5))\n",
    "plt.plot(tone*orig_mod, label='mod')\n",
    "plt.plot(ref_mod*1.2, label='mor')\n",
    "plt.title(\"original filtered signal\")\n",
    "plt.legend()\n",
    "plt.grid()"
   ]
  },
  {
   "cell_type": "code",
   "execution_count": null,
   "metadata": {},
   "outputs": [],
   "source": [
    "import scipy as sp\n",
    "\n",
    "def modscale(x):\n",
    "    return sp.special.expit(20*(x-0.28))\n",
    "    \n",
    "emod = np.array([modscale(x) for x in mod1])\n",
    "emod /= max(emod)\n",
    "#emod = modn\n",
    "remod = np.array([[x]*decim for x in emod]).flatten()\n",
    "remor = np.array([[x]*decim for x in mor]).flatten()\n",
    "wt = (Fcode / Fs)*2*np.pi\n",
    "tone = np.sin(np.arange(len(remod))*wt)\n",
    "wavfile.write('audio/re1.wav', Fs, tone*remod)\n",
    "plt.figure(figsize=(25,5))\n",
    "plt.plot(tone*remod, label='filt')\n",
    "plt.plot(remor*1.2, label='omod')\n",
    "plt.title(\"reconstructed signal\")\n",
    "plt.legend()\n",
    "plt.grid()"
   ]
  },
  {
   "cell_type": "code",
   "execution_count": null,
   "metadata": {},
   "outputs": [],
   "source": [
    "import scipy as sp\n",
    "\n",
    "sx = np.linspace(0, 1, 121)\n",
    "sy = sp.special.expit(20*(sx-0.25))\n",
    "plt.plot(sx, sy)\n",
    "plt.grid()\n",
    "plt.xlabel('x')\n",
    "plt.title('expit(x)')\n",
    "plt.show()"
   ]
  },
  {
   "cell_type": "code",
   "execution_count": null,
   "metadata": {},
   "outputs": [],
   "source": []
  }
 ],
 "metadata": {
  "kernelspec": {
   "display_name": "Python 3",
   "language": "python",
   "name": "python3"
  },
  "language_info": {
   "codemirror_mode": {
    "name": "ipython",
    "version": 3
   },
   "file_extension": ".py",
   "mimetype": "text/x-python",
   "name": "python",
   "nbconvert_exporter": "python",
   "pygments_lexer": "ipython3",
   "version": "3.7.9"
  }
 },
 "nbformat": 4,
 "nbformat_minor": 4
}
